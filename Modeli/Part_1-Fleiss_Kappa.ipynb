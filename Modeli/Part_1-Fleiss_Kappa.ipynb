{
  "cells": [
    {
      "cell_type": "markdown",
      "source": [
        "## Install library"
      ],
      "metadata": {
        "id": "IUvstiOYpFnX"
      }
    },
    {
      "cell_type": "code",
      "source": [
        "# Library for Kappa calculation\n",
        "!pip install statsmodels"
      ],
      "metadata": {
        "id": "22kkrFnTpEp9",
        "colab": {
          "base_uri": "https://localhost:8080/"
        },
        "outputId": "31ab58a8-b386-4203-ffe7-ac8b1c1fb5c5"
      },
      "execution_count": 1,
      "outputs": [
        {
          "output_type": "stream",
          "name": "stdout",
          "text": [
            "Requirement already satisfied: statsmodels in /usr/local/lib/python3.10/dist-packages (0.14.2)\n",
            "Requirement already satisfied: numpy>=1.22.3 in /usr/local/lib/python3.10/dist-packages (from statsmodels) (1.25.2)\n",
            "Requirement already satisfied: scipy!=1.9.2,>=1.8 in /usr/local/lib/python3.10/dist-packages (from statsmodels) (1.11.4)\n",
            "Requirement already satisfied: pandas!=2.1.0,>=1.4 in /usr/local/lib/python3.10/dist-packages (from statsmodels) (2.0.3)\n",
            "Requirement already satisfied: patsy>=0.5.6 in /usr/local/lib/python3.10/dist-packages (from statsmodels) (0.5.6)\n",
            "Requirement already satisfied: packaging>=21.3 in /usr/local/lib/python3.10/dist-packages (from statsmodels) (24.0)\n",
            "Requirement already satisfied: python-dateutil>=2.8.2 in /usr/local/lib/python3.10/dist-packages (from pandas!=2.1.0,>=1.4->statsmodels) (2.8.2)\n",
            "Requirement already satisfied: pytz>=2020.1 in /usr/local/lib/python3.10/dist-packages (from pandas!=2.1.0,>=1.4->statsmodels) (2023.4)\n",
            "Requirement already satisfied: tzdata>=2022.1 in /usr/local/lib/python3.10/dist-packages (from pandas!=2.1.0,>=1.4->statsmodels) (2024.1)\n",
            "Requirement already satisfied: six in /usr/local/lib/python3.10/dist-packages (from patsy>=0.5.6->statsmodels) (1.16.0)\n"
          ]
        }
      ]
    },
    {
      "cell_type": "code",
      "execution_count": 2,
      "metadata": {
        "id": "HRrgTdbumCWH"
      },
      "outputs": [],
      "source": [
        "import os\n",
        "import pandas as pd\n",
        "from statsmodels.stats.inter_rater import aggregate_raters, fleiss_kappa"
      ]
    },
    {
      "cell_type": "markdown",
      "metadata": {
        "id": "TQIMiUqmmsJ8"
      },
      "source": [
        "### Download the file containing file dataset"
      ]
    },
    {
      "cell_type": "code",
      "execution_count": 6,
      "metadata": {
        "colab": {
          "base_uri": "https://localhost:8080/"
        },
        "id": "irx43A6Nm9y0",
        "outputId": "efc0126b-0e59-45c7-c6b1-d8d4a2308dea"
      },
      "outputs": [
        {
          "output_type": "stream",
          "name": "stdout",
          "text": [
            "--2024-05-29 20:00:34--  https://raw.githubusercontent.com/Serious-bus1ness/Projekt/main/Anotacije_sve_recenice1.xlsx\n",
            "Resolving raw.githubusercontent.com (raw.githubusercontent.com)... 185.199.108.133, 185.199.109.133, 185.199.110.133, ...\n",
            "Connecting to raw.githubusercontent.com (raw.githubusercontent.com)|185.199.108.133|:443... connected.\n",
            "HTTP request sent, awaiting response... 200 OK\n",
            "Length: 488700 (477K) [application/octet-stream]\n",
            "Saving to: ‘Anotacije_sve_recenice1.xlsx’\n",
            "\n",
            "Anotacije_sve_recen 100%[===================>] 477.25K  2.86MB/s    in 0.2s    \n",
            "\n",
            "2024-05-29 20:00:35 (2.86 MB/s) - ‘Anotacije_sve_recenice1.xlsx’ saved [488700/488700]\n",
            "\n"
          ]
        }
      ],
      "source": [
        "!wget https://raw.githubusercontent.com/Serious-bus1ness/Projekt/main/Anotacije_sve_recenice1.xlsx"
      ]
    },
    {
      "cell_type": "markdown",
      "source": [],
      "metadata": {
        "id": "qz5jKGXNuq3l"
      }
    },
    {
      "cell_type": "code",
      "execution_count": 8,
      "metadata": {
        "id": "z2s89A1TnWpy"
      },
      "outputs": [],
      "source": [
        "df = pd.read_excel('/content/Anotacije_sve_recenice1.xlsx', index_col=0)"
      ]
    },
    {
      "cell_type": "code",
      "source": [
        "df.head()"
      ],
      "metadata": {
        "colab": {
          "base_uri": "https://localhost:8080/",
          "height": 324
        },
        "id": "BisFfuW8q8Kl",
        "outputId": "5e64fc0d-4135-40dc-982b-6d2782498325"
      },
      "execution_count": 9,
      "outputs": [
        {
          "output_type": "execute_result",
          "data": {
            "text/plain": [
              "                                                      Patrik   Domagoj  \\\n",
              "Rečenica                                                                 \n",
              "Kao jedna od franšiza koju sam volio, očito sam...  Positive  Positive   \n",
              "Obično bih volio doživjeti ovakve filmove na da...     Mixed     Mixed   \n",
              "Dakle, pogledao sam ga tek jučer nakon 3 dana o...     Mixed     Mixed   \n",
              "Četiri godine nakon događaja u Jurassic World: ...   Neutral   Neutral   \n",
              "U međuvremenu dr. Ellie Sattler (Laura Dern – C...   Neutral   Neutral   \n",
              "\n",
              "                                                       Karlo Leon Robert  \\\n",
              "Rečenica                                                                   \n",
              "Kao jedna od franšiza koju sam volio, očito sam...  Positive  NaN    NaN   \n",
              "Obično bih volio doživjeti ovakve filmove na da...     Mixed  NaN    NaN   \n",
              "Dakle, pogledao sam ga tek jučer nakon 3 dana o...   Neutral  NaN    NaN   \n",
              "Četiri godine nakon događaja u Jurassic World: ...   Neutral  NaN    NaN   \n",
              "U međuvremenu dr. Ellie Sattler (Laura Dern – C...   Neutral  NaN    NaN   \n",
              "\n",
              "                                                   Konačna anotacija  \n",
              "Rečenica                                                              \n",
              "Kao jedna od franšiza koju sam volio, očito sam...          Positive  \n",
              "Obično bih volio doživjeti ovakve filmove na da...             Mixed  \n",
              "Dakle, pogledao sam ga tek jučer nakon 3 dana o...           Neutral  \n",
              "Četiri godine nakon događaja u Jurassic World: ...           Neutral  \n",
              "U međuvremenu dr. Ellie Sattler (Laura Dern – C...           Neutral  "
            ],
            "text/html": [
              "\n",
              "  <div id=\"df-66bd9cf1-3234-4f89-b3e6-af131181a927\" class=\"colab-df-container\">\n",
              "    <div>\n",
              "<style scoped>\n",
              "    .dataframe tbody tr th:only-of-type {\n",
              "        vertical-align: middle;\n",
              "    }\n",
              "\n",
              "    .dataframe tbody tr th {\n",
              "        vertical-align: top;\n",
              "    }\n",
              "\n",
              "    .dataframe thead th {\n",
              "        text-align: right;\n",
              "    }\n",
              "</style>\n",
              "<table border=\"1\" class=\"dataframe\">\n",
              "  <thead>\n",
              "    <tr style=\"text-align: right;\">\n",
              "      <th></th>\n",
              "      <th>Patrik</th>\n",
              "      <th>Domagoj</th>\n",
              "      <th>Karlo</th>\n",
              "      <th>Leon</th>\n",
              "      <th>Robert</th>\n",
              "      <th>Konačna anotacija</th>\n",
              "    </tr>\n",
              "    <tr>\n",
              "      <th>Rečenica</th>\n",
              "      <th></th>\n",
              "      <th></th>\n",
              "      <th></th>\n",
              "      <th></th>\n",
              "      <th></th>\n",
              "      <th></th>\n",
              "    </tr>\n",
              "  </thead>\n",
              "  <tbody>\n",
              "    <tr>\n",
              "      <th>Kao jedna od franšiza koju sam volio, očito sam bio uzbuđen što ću vidjeli ovaj film Jurski svijet Carstvo i vidjeli više dinosaura koji teroriziraju svijet.</th>\n",
              "      <td>Positive</td>\n",
              "      <td>Positive</td>\n",
              "      <td>Positive</td>\n",
              "      <td>NaN</td>\n",
              "      <td>NaN</td>\n",
              "      <td>Positive</td>\n",
              "    </tr>\n",
              "    <tr>\n",
              "      <th>Obično bih volio doživjeti ovakve filmove na datum premijere, ali u posljednje vrijeme to radije radim vikendom/praznikom.</th>\n",
              "      <td>Mixed</td>\n",
              "      <td>Mixed</td>\n",
              "      <td>Mixed</td>\n",
              "      <td>NaN</td>\n",
              "      <td>NaN</td>\n",
              "      <td>Mixed</td>\n",
              "    </tr>\n",
              "    <tr>\n",
              "      <th>Dakle, pogledao sam ga tek jučer nakon 3 dana od objavljivanja.</th>\n",
              "      <td>Mixed</td>\n",
              "      <td>Mixed</td>\n",
              "      <td>Neutral</td>\n",
              "      <td>NaN</td>\n",
              "      <td>NaN</td>\n",
              "      <td>Neutral</td>\n",
              "    </tr>\n",
              "    <tr>\n",
              "      <th>Četiri godine nakon događaja u Jurassic World: Fallen Kingdom gdje su dinosauri sada lutali svijetom, Owen Grady (Chris Pratt – The Tomorrow War, Passengers itd.) i Claire Dearing (Bryce Dallas Howard – Rocketman, Gold itd.) živjeli su s Maisie Lockwood (Propovijed Isabelle) u osamljenom području.</th>\n",
              "      <td>Neutral</td>\n",
              "      <td>Neutral</td>\n",
              "      <td>Neutral</td>\n",
              "      <td>NaN</td>\n",
              "      <td>NaN</td>\n",
              "      <td>Neutral</td>\n",
              "    </tr>\n",
              "    <tr>\n",
              "      <th>U međuvremenu dr. Ellie Sattler (Laura Dern – Cold Pursuit, Downsizing itd.) i dr. Alan Grant (Sam Neill – Peter Rabbit 2, The Hunter itd.) pozvani su od strane njihovog starog prijatelja, dr. Iana Malcolma (Jeff Goldblum – Thor: Ragnarok , The Grand Budapest Hotel itd.) posjetiti veliku kemijsku tvrtku Biosyn.</th>\n",
              "      <td>Neutral</td>\n",
              "      <td>Neutral</td>\n",
              "      <td>Neutral</td>\n",
              "      <td>NaN</td>\n",
              "      <td>NaN</td>\n",
              "      <td>Neutral</td>\n",
              "    </tr>\n",
              "  </tbody>\n",
              "</table>\n",
              "</div>\n",
              "    <div class=\"colab-df-buttons\">\n",
              "\n",
              "  <div class=\"colab-df-container\">\n",
              "    <button class=\"colab-df-convert\" onclick=\"convertToInteractive('df-66bd9cf1-3234-4f89-b3e6-af131181a927')\"\n",
              "            title=\"Convert this dataframe to an interactive table.\"\n",
              "            style=\"display:none;\">\n",
              "\n",
              "  <svg xmlns=\"http://www.w3.org/2000/svg\" height=\"24px\" viewBox=\"0 -960 960 960\">\n",
              "    <path d=\"M120-120v-720h720v720H120Zm60-500h600v-160H180v160Zm220 220h160v-160H400v160Zm0 220h160v-160H400v160ZM180-400h160v-160H180v160Zm440 0h160v-160H620v160ZM180-180h160v-160H180v160Zm440 0h160v-160H620v160Z\"/>\n",
              "  </svg>\n",
              "    </button>\n",
              "\n",
              "  <style>\n",
              "    .colab-df-container {\n",
              "      display:flex;\n",
              "      gap: 12px;\n",
              "    }\n",
              "\n",
              "    .colab-df-convert {\n",
              "      background-color: #E8F0FE;\n",
              "      border: none;\n",
              "      border-radius: 50%;\n",
              "      cursor: pointer;\n",
              "      display: none;\n",
              "      fill: #1967D2;\n",
              "      height: 32px;\n",
              "      padding: 0 0 0 0;\n",
              "      width: 32px;\n",
              "    }\n",
              "\n",
              "    .colab-df-convert:hover {\n",
              "      background-color: #E2EBFA;\n",
              "      box-shadow: 0px 1px 2px rgba(60, 64, 67, 0.3), 0px 1px 3px 1px rgba(60, 64, 67, 0.15);\n",
              "      fill: #174EA6;\n",
              "    }\n",
              "\n",
              "    .colab-df-buttons div {\n",
              "      margin-bottom: 4px;\n",
              "    }\n",
              "\n",
              "    [theme=dark] .colab-df-convert {\n",
              "      background-color: #3B4455;\n",
              "      fill: #D2E3FC;\n",
              "    }\n",
              "\n",
              "    [theme=dark] .colab-df-convert:hover {\n",
              "      background-color: #434B5C;\n",
              "      box-shadow: 0px 1px 3px 1px rgba(0, 0, 0, 0.15);\n",
              "      filter: drop-shadow(0px 1px 2px rgba(0, 0, 0, 0.3));\n",
              "      fill: #FFFFFF;\n",
              "    }\n",
              "  </style>\n",
              "\n",
              "    <script>\n",
              "      const buttonEl =\n",
              "        document.querySelector('#df-66bd9cf1-3234-4f89-b3e6-af131181a927 button.colab-df-convert');\n",
              "      buttonEl.style.display =\n",
              "        google.colab.kernel.accessAllowed ? 'block' : 'none';\n",
              "\n",
              "      async function convertToInteractive(key) {\n",
              "        const element = document.querySelector('#df-66bd9cf1-3234-4f89-b3e6-af131181a927');\n",
              "        const dataTable =\n",
              "          await google.colab.kernel.invokeFunction('convertToInteractive',\n",
              "                                                    [key], {});\n",
              "        if (!dataTable) return;\n",
              "\n",
              "        const docLinkHtml = 'Like what you see? Visit the ' +\n",
              "          '<a target=\"_blank\" href=https://colab.research.google.com/notebooks/data_table.ipynb>data table notebook</a>'\n",
              "          + ' to learn more about interactive tables.';\n",
              "        element.innerHTML = '';\n",
              "        dataTable['output_type'] = 'display_data';\n",
              "        await google.colab.output.renderOutput(dataTable, element);\n",
              "        const docLink = document.createElement('div');\n",
              "        docLink.innerHTML = docLinkHtml;\n",
              "        element.appendChild(docLink);\n",
              "      }\n",
              "    </script>\n",
              "  </div>\n",
              "\n",
              "\n",
              "<div id=\"df-ccf8d133-6347-4dd0-89c5-d6f4901846a6\">\n",
              "  <button class=\"colab-df-quickchart\" onclick=\"quickchart('df-ccf8d133-6347-4dd0-89c5-d6f4901846a6')\"\n",
              "            title=\"Suggest charts\"\n",
              "            style=\"display:none;\">\n",
              "\n",
              "<svg xmlns=\"http://www.w3.org/2000/svg\" height=\"24px\"viewBox=\"0 0 24 24\"\n",
              "     width=\"24px\">\n",
              "    <g>\n",
              "        <path d=\"M19 3H5c-1.1 0-2 .9-2 2v14c0 1.1.9 2 2 2h14c1.1 0 2-.9 2-2V5c0-1.1-.9-2-2-2zM9 17H7v-7h2v7zm4 0h-2V7h2v10zm4 0h-2v-4h2v4z\"/>\n",
              "    </g>\n",
              "</svg>\n",
              "  </button>\n",
              "\n",
              "<style>\n",
              "  .colab-df-quickchart {\n",
              "      --bg-color: #E8F0FE;\n",
              "      --fill-color: #1967D2;\n",
              "      --hover-bg-color: #E2EBFA;\n",
              "      --hover-fill-color: #174EA6;\n",
              "      --disabled-fill-color: #AAA;\n",
              "      --disabled-bg-color: #DDD;\n",
              "  }\n",
              "\n",
              "  [theme=dark] .colab-df-quickchart {\n",
              "      --bg-color: #3B4455;\n",
              "      --fill-color: #D2E3FC;\n",
              "      --hover-bg-color: #434B5C;\n",
              "      --hover-fill-color: #FFFFFF;\n",
              "      --disabled-bg-color: #3B4455;\n",
              "      --disabled-fill-color: #666;\n",
              "  }\n",
              "\n",
              "  .colab-df-quickchart {\n",
              "    background-color: var(--bg-color);\n",
              "    border: none;\n",
              "    border-radius: 50%;\n",
              "    cursor: pointer;\n",
              "    display: none;\n",
              "    fill: var(--fill-color);\n",
              "    height: 32px;\n",
              "    padding: 0;\n",
              "    width: 32px;\n",
              "  }\n",
              "\n",
              "  .colab-df-quickchart:hover {\n",
              "    background-color: var(--hover-bg-color);\n",
              "    box-shadow: 0 1px 2px rgba(60, 64, 67, 0.3), 0 1px 3px 1px rgba(60, 64, 67, 0.15);\n",
              "    fill: var(--button-hover-fill-color);\n",
              "  }\n",
              "\n",
              "  .colab-df-quickchart-complete:disabled,\n",
              "  .colab-df-quickchart-complete:disabled:hover {\n",
              "    background-color: var(--disabled-bg-color);\n",
              "    fill: var(--disabled-fill-color);\n",
              "    box-shadow: none;\n",
              "  }\n",
              "\n",
              "  .colab-df-spinner {\n",
              "    border: 2px solid var(--fill-color);\n",
              "    border-color: transparent;\n",
              "    border-bottom-color: var(--fill-color);\n",
              "    animation:\n",
              "      spin 1s steps(1) infinite;\n",
              "  }\n",
              "\n",
              "  @keyframes spin {\n",
              "    0% {\n",
              "      border-color: transparent;\n",
              "      border-bottom-color: var(--fill-color);\n",
              "      border-left-color: var(--fill-color);\n",
              "    }\n",
              "    20% {\n",
              "      border-color: transparent;\n",
              "      border-left-color: var(--fill-color);\n",
              "      border-top-color: var(--fill-color);\n",
              "    }\n",
              "    30% {\n",
              "      border-color: transparent;\n",
              "      border-left-color: var(--fill-color);\n",
              "      border-top-color: var(--fill-color);\n",
              "      border-right-color: var(--fill-color);\n",
              "    }\n",
              "    40% {\n",
              "      border-color: transparent;\n",
              "      border-right-color: var(--fill-color);\n",
              "      border-top-color: var(--fill-color);\n",
              "    }\n",
              "    60% {\n",
              "      border-color: transparent;\n",
              "      border-right-color: var(--fill-color);\n",
              "    }\n",
              "    80% {\n",
              "      border-color: transparent;\n",
              "      border-right-color: var(--fill-color);\n",
              "      border-bottom-color: var(--fill-color);\n",
              "    }\n",
              "    90% {\n",
              "      border-color: transparent;\n",
              "      border-bottom-color: var(--fill-color);\n",
              "    }\n",
              "  }\n",
              "</style>\n",
              "\n",
              "  <script>\n",
              "    async function quickchart(key) {\n",
              "      const quickchartButtonEl =\n",
              "        document.querySelector('#' + key + ' button');\n",
              "      quickchartButtonEl.disabled = true;  // To prevent multiple clicks.\n",
              "      quickchartButtonEl.classList.add('colab-df-spinner');\n",
              "      try {\n",
              "        const charts = await google.colab.kernel.invokeFunction(\n",
              "            'suggestCharts', [key], {});\n",
              "      } catch (error) {\n",
              "        console.error('Error during call to suggestCharts:', error);\n",
              "      }\n",
              "      quickchartButtonEl.classList.remove('colab-df-spinner');\n",
              "      quickchartButtonEl.classList.add('colab-df-quickchart-complete');\n",
              "    }\n",
              "    (() => {\n",
              "      let quickchartButtonEl =\n",
              "        document.querySelector('#df-ccf8d133-6347-4dd0-89c5-d6f4901846a6 button');\n",
              "      quickchartButtonEl.style.display =\n",
              "        google.colab.kernel.accessAllowed ? 'block' : 'none';\n",
              "    })();\n",
              "  </script>\n",
              "</div>\n",
              "    </div>\n",
              "  </div>\n"
            ],
            "application/vnd.google.colaboratory.intrinsic+json": {
              "type": "dataframe",
              "variable_name": "df",
              "summary": "{\n  \"name\": \"df\",\n  \"rows\": 3028,\n  \"fields\": [\n    {\n      \"column\": \"Re\\u010denica\",\n      \"properties\": {\n        \"dtype\": \"string\",\n        \"num_unique_values\": 2922,\n        \"samples\": [\n          \"Iznena\\u0111uju\\u0107e, me\\u0111utim, osjetio sam da postoji osje\\u0107aj sli\\u010dnosti izme\\u0111u ovo dvije s filmom Herbie Fully Loaded gdje se tako\\u0111er formira prijateljstvo izme\\u0111u \\u201c\\u017eivog\\u201d Volkswagenove bube Herbie s vlasnikom / prijateljicom Maggie (zvijezde Lindsay Lohan). \",\n          \"Pretpostavljam da bi producenti filmova mogli biti zabrinuti da publici postaje dosadno gledaju\\u0107i kako se zemlja opet i ponovo nosi s prirodnim katastrofama u filmovima poput 2012 ili The Day After Tomorrow.\",\n          \"Samo idite i u\\u017eivajte u ovom filmu \\u0161to prije mo\\u017eete.\"\n        ],\n        \"semantic_type\": \"\",\n        \"description\": \"\"\n      }\n    },\n    {\n      \"column\": \"Patrik\",\n      \"properties\": {\n        \"dtype\": \"category\",\n        \"num_unique_values\": 4,\n        \"samples\": [\n          \"Mixed\",\n          \"Negative\",\n          \"Positive\"\n        ],\n        \"semantic_type\": \"\",\n        \"description\": \"\"\n      }\n    },\n    {\n      \"column\": \"Domagoj\",\n      \"properties\": {\n        \"dtype\": \"category\",\n        \"num_unique_values\": 4,\n        \"samples\": [\n          \"Mixed\",\n          \"Negative\",\n          \"Positive\"\n        ],\n        \"semantic_type\": \"\",\n        \"description\": \"\"\n      }\n    },\n    {\n      \"column\": \"Karlo\",\n      \"properties\": {\n        \"dtype\": \"category\",\n        \"num_unique_values\": 5,\n        \"samples\": [\n          \"Mixed\",\n          \"neg\",\n          \"Neutral\"\n        ],\n        \"semantic_type\": \"\",\n        \"description\": \"\"\n      }\n    },\n    {\n      \"column\": \"Leon\",\n      \"properties\": {\n        \"dtype\": \"category\",\n        \"num_unique_values\": 4,\n        \"samples\": [\n          \"Positive\",\n          \"Mixed\",\n          \"Negative\"\n        ],\n        \"semantic_type\": \"\",\n        \"description\": \"\"\n      }\n    },\n    {\n      \"column\": \"Robert\",\n      \"properties\": {\n        \"dtype\": \"category\",\n        \"num_unique_values\": 4,\n        \"samples\": [\n          \"Positive\",\n          \"Negative\",\n          \"Mixed\"\n        ],\n        \"semantic_type\": \"\",\n        \"description\": \"\"\n      }\n    },\n    {\n      \"column\": \"Kona\\u010dna anotacija\",\n      \"properties\": {\n        \"dtype\": \"category\",\n        \"num_unique_values\": 4,\n        \"samples\": [\n          \"Mixed\",\n          \"Negative\",\n          \"Positive\"\n        ],\n        \"semantic_type\": \"\",\n        \"description\": \"\"\n      }\n    }\n  ]\n}"
            }
          },
          "metadata": {},
          "execution_count": 9
        }
      ]
    },
    {
      "cell_type": "markdown",
      "source": [
        "### Take only the columns that have annotations"
      ],
      "metadata": {
        "id": "oG40QrDmrBcU"
      }
    },
    {
      "cell_type": "code",
      "source": [
        "df[\"Konačna anotacija\"].unique()"
      ],
      "metadata": {
        "id": "QXxnSbqur6p3",
        "outputId": "d552bee4-45a9-427d-82c1-0c2fea1fc53b",
        "colab": {
          "base_uri": "https://localhost:8080/"
        }
      },
      "execution_count": 11,
      "outputs": [
        {
          "output_type": "execute_result",
          "data": {
            "text/plain": [
              "array(['Positive', 'Mixed', 'Neutral', 'Negative'], dtype=object)"
            ]
          },
          "metadata": {},
          "execution_count": 11
        }
      ]
    },
    {
      "cell_type": "markdown",
      "source": [
        "## Since the labels were normalized so we are mapping individual labels to number"
      ],
      "metadata": {
        "id": "QzAVFaGAvTbc"
      }
    },
    {
      "cell_type": "code",
      "source": [
        "string_to_int = {'Negative': 0, 'Neutral': 1,'Positive': 2, 'Mixed': 3}\n",
        "\n",
        "# Encode the columns using the dictionary 'mix ', 'neuz', 'poz '\n",
        "df = df.replace(to_replace=string_to_int)"
      ],
      "metadata": {
        "id": "-ec6N455sb8j"
      },
      "execution_count": 12,
      "outputs": []
    },
    {
      "cell_type": "code",
      "source": [
        "df[\"Konačna anotacija\"].unique()"
      ],
      "metadata": {
        "colab": {
          "base_uri": "https://localhost:8080/"
        },
        "id": "-c_v6jRksvIM",
        "outputId": "25d3bbe6-7c95-4c8d-b0cd-67bae15c14f2"
      },
      "execution_count": 13,
      "outputs": [
        {
          "output_type": "execute_result",
          "data": {
            "text/plain": [
              "array([2, 3, 1, 0])"
            ]
          },
          "metadata": {},
          "execution_count": 13
        }
      ]
    },
    {
      "cell_type": "code",
      "execution_count": 32,
      "metadata": {
        "id": "y41kp_GnoXA4"
      },
      "outputs": [],
      "source": [
        "df_data = df[[\"Patrik\",\"Domagoj\",\"Karlo\"]]"
      ]
    },
    {
      "cell_type": "markdown",
      "source": [
        "## Drop rows that are blank/NaN"
      ],
      "metadata": {
        "id": "wJVpuKxXvDEI"
      }
    },
    {
      "cell_type": "code",
      "source": [
        "df_dropped = df_data.dropna()"
      ],
      "metadata": {
        "id": "rEHZF0Aeq0tC"
      },
      "execution_count": 33,
      "outputs": []
    },
    {
      "cell_type": "code",
      "source": [
        "df_dropped.head().values.tolist()"
      ],
      "metadata": {
        "colab": {
          "base_uri": "https://localhost:8080/"
        },
        "id": "fzUiFi9co3G0",
        "outputId": "2fbdad24-6b51-4022-b9d4-5eb9e1191722"
      },
      "execution_count": 34,
      "outputs": [
        {
          "output_type": "execute_result",
          "data": {
            "text/plain": [
              "[[2.0, 2.0, 2], [3.0, 3.0, 3], [3.0, 3.0, 1], [1.0, 1.0, 1], [1.0, 1.0, 1]]"
            ]
          },
          "metadata": {},
          "execution_count": 34
        }
      ]
    },
    {
      "cell_type": "markdown",
      "source": [
        "### Before we compute the inter-annotator agreement we need to convert it into a different form."
      ],
      "metadata": {
        "id": "z2dUIEjsvKEe"
      }
    },
    {
      "cell_type": "code",
      "source": [
        "agg,cat  = aggregate_raters(df_dropped.values.tolist())\n",
        "agg"
      ],
      "metadata": {
        "colab": {
          "base_uri": "https://localhost:8080/"
        },
        "id": "sNYoSKuppauq",
        "outputId": "4e105648-7d9a-423d-837a-d7805909ec4c"
      },
      "execution_count": 35,
      "outputs": [
        {
          "output_type": "execute_result",
          "data": {
            "text/plain": [
              "array([[0, 0, 3, 0],\n",
              "       [0, 0, 0, 3],\n",
              "       [0, 1, 0, 2],\n",
              "       ...,\n",
              "       [0, 3, 0, 0],\n",
              "       [0, 1, 0, 2],\n",
              "       [3, 0, 0, 0]])"
            ]
          },
          "metadata": {},
          "execution_count": 35
        }
      ]
    },
    {
      "cell_type": "markdown",
      "source": [
        "## Final Inter-annotator agreement for 3 annotators is as follows:"
      ],
      "metadata": {
        "id": "pxV7KIlAvnW2"
      }
    },
    {
      "cell_type": "code",
      "source": [
        "fleiss_kappa(agg)"
      ],
      "metadata": {
        "id": "63fmF7rxrMbo",
        "colab": {
          "base_uri": "https://localhost:8080/"
        },
        "outputId": "01bcca20-e1bb-4548-f4ed-9e8506e1c445"
      },
      "execution_count": 36,
      "outputs": [
        {
          "output_type": "execute_result",
          "data": {
            "text/plain": [
              "0.8116852778942195"
            ]
          },
          "metadata": {},
          "execution_count": 36
        }
      ]
    },
    {
      "cell_type": "code",
      "source": [
        "# https://en.wikipedia.org/wiki/Fleiss%27_kappa"
      ],
      "metadata": {
        "id": "iZEWv1UouyT1"
      },
      "execution_count": null,
      "outputs": []
    }
  ],
  "metadata": {
    "colab": {
      "provenance": []
    },
    "kernelspec": {
      "display_name": "Python 3",
      "name": "python3"
    },
    "language_info": {
      "name": "python"
    }
  },
  "nbformat": 4,
  "nbformat_minor": 0
}